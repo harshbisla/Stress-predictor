{
 "cells": [
  {
   "cell_type": "code",
   "execution_count": 1,
   "metadata": {},
   "outputs": [],
   "source": [
    "import pandas as pd\n",
    "import os\n",
    "import matplotlib.pyplot as plt"
   ]
  },
  {
   "cell_type": "code",
   "execution_count": 2,
   "metadata": {},
   "outputs": [],
   "source": [
    "import os\n",
    "import glob\n",
    "import pandas as pd\n",
    "from datetime import datetime, timedelta"
   ]
  },
  {
   "attachments": {},
   "cell_type": "markdown",
   "metadata": {},
   "source": [
    "## Applying Sliding window to minimize data"
   ]
  },
  {
   "cell_type": "code",
   "execution_count": 3,
   "metadata": {},
   "outputs": [],
   "source": [
    "# Get the list of file paths for subjectID files\n",
    "file_paths = glob.glob(\"updated_data_3/subjectID_*.csv\")\n"
   ]
  },
  {
   "cell_type": "code",
   "execution_count": 4,
   "metadata": {},
   "outputs": [],
   "source": [
    "# Create a new folder for storing the sliding window data\n",
    "folder_path = \"updated_data_sliding\"\n",
    "os.makedirs(folder_path, exist_ok=True)\n"
   ]
  },
  {
   "cell_type": "code",
   "execution_count": 9,
   "metadata": {},
   "outputs": [],
   "source": [
    "# Define the sliding window parameters\n",
    "window_size = 5\n",
    "overlap = 2"
   ]
  },
  {
   "cell_type": "code",
   "execution_count": 10,
   "metadata": {},
   "outputs": [
    {
     "name": "stdout",
     "output_type": "stream",
     "text": [
      "Sliding window data saved to: updated_data_sliding\\subjectID_1.csv\n",
      "Sliding window data saved to: updated_data_sliding\\subjectID_10.csv\n",
      "Sliding window data saved to: updated_data_sliding\\subjectID_11.csv\n",
      "Sliding window data saved to: updated_data_sliding\\subjectID_12.csv\n",
      "Sliding window data saved to: updated_data_sliding\\subjectID_13.csv\n",
      "Sliding window data saved to: updated_data_sliding\\subjectID_14.csv\n",
      "Sliding window data saved to: updated_data_sliding\\subjectID_15.csv\n",
      "Sliding window data saved to: updated_data_sliding\\subjectID_16.csv\n",
      "Sliding window data saved to: updated_data_sliding\\subjectID_17.csv\n",
      "Sliding window data saved to: updated_data_sliding\\subjectID_18.csv\n",
      "Sliding window data saved to: updated_data_sliding\\subjectID_19.csv\n",
      "Sliding window data saved to: updated_data_sliding\\subjectID_2.csv\n",
      "Sliding window data saved to: updated_data_sliding\\subjectID_20.csv\n",
      "Sliding window data saved to: updated_data_sliding\\subjectID_21.csv\n",
      "Sliding window data saved to: updated_data_sliding\\subjectID_22.csv\n",
      "Sliding window data saved to: updated_data_sliding\\subjectID_23.csv\n",
      "Sliding window data saved to: updated_data_sliding\\subjectID_24.csv\n",
      "Sliding window data saved to: updated_data_sliding\\subjectID_25.csv\n",
      "Sliding window data saved to: updated_data_sliding\\subjectID_26.csv\n",
      "Sliding window data saved to: updated_data_sliding\\subjectID_27.csv\n",
      "Sliding window data saved to: updated_data_sliding\\subjectID_28.csv\n",
      "Sliding window data saved to: updated_data_sliding\\subjectID_3.csv\n",
      "Sliding window data saved to: updated_data_sliding\\subjectID_4.csv\n",
      "Sliding window data saved to: updated_data_sliding\\subjectID_5.csv\n",
      "Sliding window data saved to: updated_data_sliding\\subjectID_6.csv\n",
      "Sliding window data saved to: updated_data_sliding\\subjectID_7.csv\n",
      "Sliding window data saved to: updated_data_sliding\\subjectID_8.csv\n",
      "Sliding window data saved to: updated_data_sliding\\subjectID_9.csv\n"
     ]
    }
   ],
   "source": [
    "# Iterate over the file paths\n",
    "for file_path in file_paths:\n",
    "    # Load the data from the file\n",
    "    data = pd.read_csv(file_path)\n",
    "    \n",
    "    # Get the timestamp column\n",
    "    timestamp = data[\"DateTime\"]\n",
    "    \n",
    "    # Remove the timestamp column from the data\n",
    "    data = data.drop(\"DateTime\", axis=1)\n",
    "    \n",
    "    # Create a new DataFrame for storing the sliding window data\n",
    "    sliding_window_data = pd.DataFrame()\n",
    "    \n",
    "    # Apply sliding window technique to each column separately\n",
    "    for column in data.columns:\n",
    "        column_data = data[column]\n",
    "        num_windows = (len(column_data) - window_size) // overlap + 1\n",
    "        \n",
    "        # Iterate over the windows\n",
    "        for i in range(num_windows):\n",
    "            start_index = i * overlap\n",
    "            end_index = start_index + window_size\n",
    "            \n",
    "            # Get the window data\n",
    "            window_data = column_data[start_index:end_index]\n",
    "            \n",
    "            # Calculate the mean of the window data\n",
    "            window_mean = window_data.mean()\n",
    "            \n",
    "            # Get the timestamp from where the window started\n",
    "            window_timestamp = timestamp[end_index - 1]\n",
    "            \n",
    "            # Append the window data to the sliding window DataFrame\n",
    "            sliding_window_data.loc[window_timestamp, column] = window_mean\n",
    "    \n",
    "    # Save the sliding window data to a new file\n",
    "    new_file_name = os.path.basename(file_path)\n",
    "    new_file_path = os.path.join(folder_path, new_file_name)\n",
    "    sliding_window_data.to_csv(new_file_path)\n",
    "    \n",
    "    print(\"Sliding window data saved to:\", new_file_path)"
   ]
  },
  {
   "cell_type": "code",
   "execution_count": null,
   "metadata": {},
   "outputs": [],
   "source": []
  }
 ],
 "metadata": {
  "kernelspec": {
   "display_name": "Python 3",
   "language": "python",
   "name": "python3"
  },
  "language_info": {
   "codemirror_mode": {
    "name": "ipython",
    "version": 3
   },
   "file_extension": ".py",
   "mimetype": "text/x-python",
   "name": "python",
   "nbconvert_exporter": "python",
   "pygments_lexer": "ipython3",
   "version": "3.11.0"
  },
  "orig_nbformat": 4
 },
 "nbformat": 4,
 "nbformat_minor": 2
}
